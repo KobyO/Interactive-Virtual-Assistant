{
 "cells": [
  {
   "cell_type": "markdown",
   "metadata": {
    "deletable": true,
    "editable": true
   },
   "source": [
    "# Interactive Virtual Assistant"
   ]
  },
  {
   "cell_type": "markdown",
   "metadata": {
    "deletable": true,
    "editable": true
   },
   "source": [
    "This is a virtual assistant that listens for your voice commands and carries out a number of functions including:\n",
    "- Sending email or sms messages\n",
    "- Carrying out web searches\n",
    "- Opening web pages\n",
    "- Reporting the weather for thousands of cities around the world\n",
    "- Playing music or videos (from youtube)\n",
    "- Answering general questions (eg. \"who is the president of Ghana?\")\n",
    "- and a few others...\n",
    "\n",
    "This is a very basic prototype, and still a work in progress. A lot of improvements are possible."
   ]
  },
  {
   "cell_type": "code",
   "execution_count": null,
   "metadata": {
    "collapsed": false,
    "deletable": true,
    "editable": true
   },
   "outputs": [],
   "source": [
    "import os\n",
    "import re\n",
    "import math\n",
    "import time\n",
    "import smtplib\n",
    "import requests\n",
    "import webbrowser\n",
    "import urllib.parse\n",
    "import urllib.request\n",
    "from gtts import gTTS\n",
    "from weather import Weather\n",
    "from mutagen.mp3 import MP3\n",
    "from datetime import datetime\n",
    "import speech_recognition as sr\n",
    "from googlesearch import get_page\n",
    "from bs4 import BeautifulSoup as soup\n",
    "from urllib.request import urlopen as uReq\n",
    "from IPython.display import Audio, display"
   ]
  },
  {
   "cell_type": "code",
   "execution_count": null,
   "metadata": {
    "collapsed": true,
    "deletable": true,
    "editable": true
   },
   "outputs": [],
   "source": [
    "# List of contacts that the assistant can send email or sms messages to\n",
    "# A list of some email-to-sms gateways can be found at https://en.wikipedia.org/wiki/SMS_gateway\n",
    "contacts = {'<name1>': ['<10-digit-number1>', '@<email-to-sms-gateway1>', '<email-address1>'],\n",
    "            '<name2>': ['<10-digit-number2>', '@<email-to-sms-gateway2>', '<email-address2>'],\n",
    "            '<name3>': ['<10-digit-number3>', '@<email-to-sms-gateway3>', '<email-address3>']}"
   ]
  },
  {
   "cell_type": "code",
   "execution_count": null,
   "metadata": {
    "collapsed": false,
    "deletable": true,
    "editable": true
   },
   "outputs": [],
   "source": [
    "greetings = ['good morning', 'good afternoon', 'good evening', 'good day', 'how are you', 'hi', 'hello', 'what\\'s up']\n",
    "endings = ['bye', 'goodbye', 'good night', 'goodnight', 'later']\n",
    "msg_commands = ['text', 'sms to', 'email', 'email to']\n",
    "questions = ['who', 'what', 'when', 'where', 'how']"
   ]
  },
  {
   "cell_type": "markdown",
   "metadata": {},
   "source": [
    "#### We will define a few functions to carry out commands"
   ]
  },
  {
   "cell_type": "code",
   "execution_count": null,
   "metadata": {
    "collapsed": false,
    "deletable": true,
    "editable": true
   },
   "outputs": [],
   "source": [
    "def speak(phrase):\n",
    "    \"Speaks the phrase that is passed as argument\"\n",
    "\n",
    "    print(phrase)\n",
    "\n",
    "    text_to_speech = gTTS(text = phrase, lang = 'en')\n",
    "    text_to_speech.save('audio.mp3')\n",
    "    \n",
    "    display(Audio(filename = 'audio.mp3', autoplay = True))"
   ]
  },
  {
   "cell_type": "code",
   "execution_count": null,
   "metadata": {
    "collapsed": true,
    "deletable": true,
    "editable": true
   },
   "outputs": [],
   "source": [
    "def listen():\n",
    "    \"listens for commands\"\n",
    "\n",
    "    r = sr.Recognizer()\n",
    "\n",
    "    with sr.Microphone() as source:\n",
    "        r.pause_threshold = 1\n",
    "        r.adjust_for_ambient_noise(source, duration = 1)\n",
    "        print('Ready...')\n",
    "        audio = r.listen(source)\n",
    "\n",
    "    try:\n",
    "        command = r.recognize_google(audio)\n",
    "        print('You said: ' + command + '\\n')\n",
    "\n",
    "    #loop back to continue to listen for commands if unrecognizable speech is received\n",
    "    except sr.UnknownValueError:\n",
    "        print('Did not recognize command')\n",
    "        command = listen();\n",
    "\n",
    "    return command.lower()"
   ]
  },
  {
   "cell_type": "code",
   "execution_count": null,
   "metadata": {
    "collapsed": true,
    "deletable": true,
    "editable": true
   },
   "outputs": [],
   "source": [
    "def greet(command = ''):\n",
    "    \n",
    "    if any(command.startswith(phrase) for phrase in greetings):\n",
    "        for phrase in greetings:\n",
    "            if command.startswith(phrase):\n",
    "                speak(phrase)\n",
    "                break\n",
    "    \n",
    "    if command:\n",
    "        if 'hello' in command:\n",
    "            if len(command.split()) == 1:\n",
    "                speak('hi')\n",
    "            else:\n",
    "                new_command = ' '.join(command.split()[1:])\n",
    "                assistant(new_command)\n",
    "                return True\n",
    "        elif 'hi' in command:\n",
    "            if len(command.split()) == 1:\n",
    "                speak('hello')\n",
    "            else:\n",
    "                assistant(' '.join(command.split()[1:]))\n",
    "                return True\n",
    "        elif 'how are you' in command:\n",
    "            speak('I\\'m doing great, I hope you are too!')\n",
    "        elif 'what\\'s up' in command:\n",
    "            speak('Just chillin')\n",
    "    else:\n",
    "        hr = int(datetime.now().time().strftime('%H:%M').split(':')[0])\n",
    "        if hr < 12:\n",
    "            speak('Good morning!')\n",
    "        elif hr > 16:\n",
    "            speak('Good evening!')\n",
    "        else:\n",
    "            speak('Good afternoon!')"
   ]
  },
  {
   "cell_type": "code",
   "execution_count": null,
   "metadata": {
    "collapsed": false,
    "deletable": true,
    "editable": true
   },
   "outputs": [],
   "source": [
    "def send_msg(message, receipient, authenticate = False):\n",
    "    # Method to send email or SMS\n",
    "    \n",
    "    # It would be preferable to create a new email address just for this\n",
    "    # This project uses a gmail server\n",
    "    sender = '<your email address>'\n",
    "    \n",
    "    server = smtplib.SMTP('smtp.gmail.com:587')\n",
    "    server.starttls()\n",
    "    \n",
    "    if authenticate:\n",
    "        username = input('Username: ')\n",
    "        password = input('Password: ')\n",
    "    else:\n",
    "        username = '<your email address>'\n",
    "        password = '<your password>'\n",
    "    \n",
    "    print('Logging in...')\n",
    "    server.login(username,password)\n",
    "    print('Login successful')\n",
    "    print('\\nSending message...')\n",
    "    server.sendmail(sender, receipient, '\\n'+message)\n",
    "    server.quit()"
   ]
  },
  {
   "cell_type": "code",
   "execution_count": null,
   "metadata": {
    "collapsed": true,
    "deletable": true,
    "editable": true
   },
   "outputs": [],
   "source": [
    "def send_message(command):\n",
    "    \n",
    "    contact = ''\n",
    "    \n",
    "    if 'text' in command or 'sms to' in command:\n",
    "        query = 'text (.*)' if 'text' in command else 'sms to (.*)'\n",
    "        reg_ex = re.search(query, command)\n",
    "        if reg_ex:\n",
    "            contact = reg_ex.group(1).lower()\n",
    "        if contact not in contacts:\n",
    "            speak('Sorry, I don\\'t know who {} is'.format(contact))\n",
    "        else:\n",
    "            speak('What should I say?')\n",
    "            message = listen().capitalize()\n",
    "            receipient = contacts[contact][0] + contacts[contact][1]\n",
    "            send_msg(message, receipient)\n",
    "            speak('Message sent to {}'.format(contact.capitalize()))\n",
    "            \n",
    "    elif 'email' in command or 'email to' in command:\n",
    "        query = 'email to (.*)' if 'email to' in command else 'email (.*)'\n",
    "        reg_ex = re.search(query, command)\n",
    "        if reg_ex:\n",
    "            contact = reg_ex.group(1).lower()\n",
    "        if contact not in contacts:\n",
    "            speak('Sorry, I don\\'t know who {} is'.format(contact))\n",
    "        else:\n",
    "            speak('What should I say?')\n",
    "            message = listen().capitalize()\n",
    "            receipient = contacts[contact][2]\n",
    "            send_msg(message, receipient)\n",
    "            speak('Email sent to {}'.format(contact.capitalize()))"
   ]
  },
  {
   "cell_type": "code",
   "execution_count": null,
   "metadata": {
    "collapsed": false,
    "deletable": true,
    "editable": true
   },
   "outputs": [],
   "source": [
    "def open_webpage(command):\n",
    "    \n",
    "    reg_ex = re.search('open (.+)', command)\n",
    "    \n",
    "    if reg_ex:\n",
    "        domain = reg_ex.group(1)\n",
    "        url = 'https://www.' + domain\n",
    "        speak('Opening ' + domain)\n",
    "        webbrowser.open(url)\n",
    "        print('Done!')\n",
    "    else:\n",
    "        speak('I\\'m sorry, could you repeat that please?')"
   ]
  },
  {
   "cell_type": "code",
   "execution_count": null,
   "metadata": {
    "collapsed": true,
    "deletable": true,
    "editable": true
   },
   "outputs": [],
   "source": [
    "def play_youtube(command):\n",
    "    \n",
    "        reg_ex = re.search('play (.*)', command)\n",
    "        query = reg_ex.group(1)\n",
    "        query_string = urllib.parse.urlencode({'search_query' : query})\n",
    "        html_content = urllib.request.urlopen('http://www.youtube.com/results?' + query_string)\n",
    "        search_results = re.findall(r'href=\\\"\\/watch\\?v=(.{11})', html_content.read().decode())\n",
    "        video = search_results[0]\n",
    "        webbrowser.open('http://www.youtube.com/watch?v=' + video)\n",
    "        speak('Playing \\\"{}\\\" on YouTube'.format(query))"
   ]
  },
  {
   "cell_type": "code",
   "execution_count": null,
   "metadata": {
    "collapsed": true,
    "deletable": true,
    "editable": true
   },
   "outputs": [],
   "source": [
    "def get_weather(command):\n",
    "    \n",
    "    weather = Weather()\n",
    "\n",
    "    if 'forecast' in command:\n",
    "        reg_ex = re.search('forecast (.*)', command)\n",
    "        if reg_ex:\n",
    "            day = 'tomorrow'\n",
    "            index = 1\n",
    "            phrase = reg_ex.group(1).split()\n",
    "            city = phrase[1]\n",
    "            if len(phrase) > 2:\n",
    "                day = phrase[2]\n",
    "                if day.lower() == 'today':\n",
    "                    index = 0\n",
    "            location = weather.lookup_by_location(city)\n",
    "            forecasts = location.forecast()\n",
    "            speak('Weather forecast for {} {}: {}. Temperatures will range between {}°C and {}°C'\n",
    "                     .format(city.split()[-1].capitalize(), day, forecasts[index].text(), toCelsius(forecasts[index].low()), toCelsius(forecasts[index].high())))     \n",
    "    else:\n",
    "        reg_ex = re.search('weather (.*)', command)\n",
    "        if reg_ex:\n",
    "            city = reg_ex.group(1)\n",
    "            location = weather.lookup_by_location(city)\n",
    "            condition = location.condition()\n",
    "            speak('Current weather in {}: {}. Temperature: {}°C, or {}°F'\n",
    "                     .format(city.split()[-1].capitalize(), condition.text(), toCelsius(condition.temp()), condition.temp()))"
   ]
  },
  {
   "cell_type": "code",
   "execution_count": null,
   "metadata": {
    "collapsed": true,
    "deletable": true,
    "editable": true
   },
   "outputs": [],
   "source": [
    "def toCelsius(F):\n",
    "    \n",
    "    return int(5/9 * (int(F) - 32))"
   ]
  },
  {
   "cell_type": "code",
   "execution_count": null,
   "metadata": {
    "collapsed": false,
    "deletable": true,
    "editable": true
   },
   "outputs": [],
   "source": [
    "def tell_joke():\n",
    "    \n",
    "    res = requests.get('https://icanhazdadjoke.com/', headers = {\"Accept\": \"application/json\"})\n",
    "        \n",
    "    if res.status_code == requests.codes.ok:\n",
    "        speak(str(res.json()['joke']))\n",
    "    else:\n",
    "        speak('Oops! I ran out of jokes.')"
   ]
  },
  {
   "cell_type": "code",
   "execution_count": null,
   "metadata": {
    "collapsed": false,
    "deletable": true,
    "editable": true
   },
   "outputs": [],
   "source": [
    "def google_search(command):\n",
    "    \n",
    "    if 'search for' in command:\n",
    "        reg_ex = re.search('search for (.*)', command)\n",
    "        query = reg_ex.group(1)\n",
    "        webbrowser.open('https://www.google.com/search?q=' + query.replace(' ', '+'))\n",
    "        speak('Here are some results')\n",
    "    else:\n",
    "        reg_ex = re.search('show me (.*)', command)\n",
    "        query = reg_ex.group(1)\n",
    "        \n",
    "        page_query = 'https://www.google.com/search?q=' + '+'.join(query.split(' '))\n",
    "        page = get_page(page_query)\n",
    "        page_soup = soup(page, \"html.parser\")\n",
    "        \n",
    "        # Get the first valid link in the first 5 regex results\n",
    "        result = ''\n",
    "        for tag in page_soup.find(id = 'search').findAll('h3', attrs = {'class': 'r'})[:5]:\n",
    "            reg_ex = re.search('url\\?q=(.*)', tag.a['href'])\n",
    "            if reg_ex:\n",
    "                result = urllib.parse.unquote(reg_ex.group(1).split('&')[0])\n",
    "                break\n",
    "        webbrowser.open(result)\n",
    "        speak('Here you go...')"
   ]
  },
  {
   "cell_type": "code",
   "execution_count": null,
   "metadata": {
    "collapsed": false,
    "deletable": true,
    "editable": true
   },
   "outputs": [],
   "source": [
    "def get_answer(command):\n",
    "    \n",
    "    if 'how are you' in command:\n",
    "        greet(command)\n",
    "        return\n",
    "    \n",
    "    for word in questions:\n",
    "        if word in command:\n",
    "            reg_ex = re.search(word + ' (.*)', command)\n",
    "            query = reg_ex.group(0)\n",
    "            break\n",
    "    \n",
    "    page_query = 'https://duckduckgo.com/?q=' + '+'.join(query.split(' '))\n",
    "    page = get_page(page_query)\n",
    "    page_soup = soup(page, \"html.parser\")\n",
    "    \n",
    "    try:\n",
    "        answer = page_soup.find(id = 'zero_click_abstract').text.strip().split('\\n')[0]\n",
    "        speak(answer)\n",
    "    except:\n",
    "        page_query = 'https://www.google.com/search?q=' + '+'.join(query.split(' '))\n",
    "        page = get_page(page_query)\n",
    "        page_soup = soup(page, \"html.parser\")\n",
    "        try:\n",
    "            answer = page_soup.find(id = 'search').findAll('div')[0].li.text\n",
    "            if answer:\n",
    "                if not (answer == 'Cached'):\n",
    "                    speak(prefix + ' is ' + answer)\n",
    "                else:\n",
    "                    answer = page_soup.find(id = 'rhs_block').findAll('div')[0].span.text.replace('Wikipedia', '')\n",
    "                    speak(answer)\n",
    "            else:\n",
    "                speak('I\\'m sorry, I don\\'t know the answer to that.')\n",
    "        except:\n",
    "            speak('Sorry, I could not get you an answer.')"
   ]
  },
  {
   "cell_type": "code",
   "execution_count": null,
   "metadata": {
    "collapsed": false,
    "deletable": true,
    "editable": true
   },
   "outputs": [],
   "source": [
    "def sign_off(command):\n",
    "    \n",
    "    if 'bye' in command or 'goodbye' in command:\n",
    "        speak('Goodbye!')\n",
    "    if 'good night' in command or 'goodnight' in command:\n",
    "        speak('Good night, sleep tight!')\n",
    "    if 'later' in command:\n",
    "        speak('etchry')"
   ]
  },
  {
   "cell_type": "markdown",
   "metadata": {
    "deletable": true,
    "editable": true
   },
   "source": [
    "### This is the actual assistant"
   ]
  },
  {
   "cell_type": "code",
   "execution_count": null,
   "metadata": {
    "collapsed": false,
    "deletable": true,
    "editable": true
   },
   "outputs": [],
   "source": [
    "def assistant(command):\n",
    "    \"if statements for executing commands\"\n",
    "    \n",
    "    # ======= TASKS =======\n",
    "    if any(phrase.lower() in command for phrase in msg_commands):\n",
    "        send_message(command)\n",
    "            \n",
    "    elif '. com' in command or '.com' in command:\n",
    "        open_webpage(command)\n",
    "        \n",
    "    elif 'search for' in command or 'show me' in command:\n",
    "        google_search(command)\n",
    "\n",
    "    elif 'play' in command:\n",
    "        play_youtube(command)\n",
    "        \n",
    "    elif 'joke' in command:\n",
    "        tell_joke()\n",
    "\n",
    "    # ======= QUERIES -=======\n",
    "    elif 'time' in command:\n",
    "        speak('The current time is ' + datetime.now().time().strftime('%H:%M'))\n",
    "        \n",
    "    elif 'today\\'s date' in command:\n",
    "        speak('Today\\'s date is ' + datetime.now().date().strftime('%Y-%m-%d'))\n",
    "        \n",
    "    elif 'weather' in command:\n",
    "        get_weather(command)\n",
    "        \n",
    "    elif any(word in command for word in questions):\n",
    "        get_answer(command)\n",
    "\n",
    "    # ======= MISC =======\n",
    "    elif 'thank you' in command:\n",
    "        speak('You\\'re welcome!')\n",
    "        if len(command.split()) > 2:\n",
    "            new_command = ' '.join(command.split()[2:])\n",
    "            return assistant(new_command)\n",
    "    \n",
    "    # ======= GREETINGS =======\n",
    "    elif any(phrase.lower() in command for phrase in greetings):\n",
    "        greet(command)\n",
    "\n",
    "    # ======= ENDINGS =======\n",
    "    elif any(phrase.lower() in command for phrase in endings):\n",
    "        sign_off(command)\n",
    "        return False\n",
    "    \n",
    "    else:\n",
    "        speak('Sorry, I don\\'t understand that yet')\n",
    "        \n",
    "    # wait for the current speech to end\n",
    "    time.sleep(math.ceil(MP3('audio.mp3').info.length))\n",
    "    \n",
    "    return True"
   ]
  },
  {
   "cell_type": "markdown",
   "metadata": {
    "deletable": true,
    "editable": true
   },
   "source": [
    "### The Assistant comes alive here"
   ]
  },
  {
   "cell_type": "code",
   "execution_count": null,
   "metadata": {
    "collapsed": false,
    "deletable": true,
    "editable": true
   },
   "outputs": [],
   "source": [
    "greet()\n",
    "# loop to keep running until any of the phrases in 'endings' is spoken\n",
    "# (endings = ['bye', 'goodbye', 'good night', 'goodnight', 'later'])\n",
    "keep_talking = True\n",
    "while keep_talking:\n",
    "    keep_talking = assistant(listen())"
   ]
  },
  {
   "cell_type": "markdown",
   "metadata": {
    "deletable": true,
    "editable": true
   },
   "source": [
    "### References\n",
    "- [Python_Message](https://github.com/CrakeNotSnowman/Python_Message/blob/master/sendMessage.py)\n",
    "- [Desktop Assistant](https://github.com/jg-fisher/desktopAssistant)\n",
    "- [Googlesearch Python Module](https://github.com/MarioVilas/googlesearch)\n",
    "- [Python - Search Youtube for Video](https://www.codeproject.com/Articles/873060/Python-Search-Youtube-for-Video)"
   ]
  },
  {
   "cell_type": "code",
   "execution_count": null,
   "metadata": {
    "collapsed": true,
    "deletable": true,
    "editable": true
   },
   "outputs": [],
   "source": []
  }
 ],
 "metadata": {
  "kernelspec": {
   "display_name": "Python 3",
   "language": "python",
   "name": "python3"
  },
  "language_info": {
   "codemirror_mode": {
    "name": "ipython",
    "version": 3
   },
   "file_extension": ".py",
   "mimetype": "text/x-python",
   "name": "python",
   "nbconvert_exporter": "python",
   "pygments_lexer": "ipython3",
   "version": "3.5.2"
  }
 },
 "nbformat": 4,
 "nbformat_minor": 2
}
